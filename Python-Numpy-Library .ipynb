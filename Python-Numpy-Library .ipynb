{
 "cells": [
  {
   "cell_type": "code",
   "execution_count": 2,
   "id": "c9571368",
   "metadata": {},
   "outputs": [],
   "source": [
    "## Numpy Problems"
   ]
  },
  {
   "cell_type": "code",
   "execution_count": 3,
   "id": "5b9c62c1",
   "metadata": {},
   "outputs": [],
   "source": [
    "import numpy as np   ## Installation of Numpy"
   ]
  },
  {
   "cell_type": "code",
   "execution_count": 4,
   "id": "33d959e1",
   "metadata": {},
   "outputs": [
    {
     "name": "stdout",
     "output_type": "stream",
     "text": [
      "1.24.2\n"
     ]
    }
   ],
   "source": [
    "print(np.__version__)  ## Version of Numpy"
   ]
  },
  {
   "cell_type": "markdown",
   "id": "03e94204",
   "metadata": {},
   "source": [
    "0-D Array"
   ]
  },
  {
   "cell_type": "code",
   "execution_count": 5,
   "id": "a6321e8c",
   "metadata": {},
   "outputs": [
    {
     "name": "stdout",
     "output_type": "stream",
     "text": [
      "220\n"
     ]
    }
   ],
   "source": [
    "arr_0 = np.array(220)\n",
    "print(arr_0)"
   ]
  },
  {
   "cell_type": "markdown",
   "id": "72b98c00",
   "metadata": {},
   "source": [
    "\n",
    "1. Write a Python program to convert a list of numeric value into a one-dimensional\n",
    "NumPy array.\n",
    "Expected Output:\n",
    "Original List: [12.23, 13.32, 100, 36.32]\n",
    "One-dimensional numpy array: [ 12.23 13.32 100. 36.32]"
   ]
  },
  {
   "cell_type": "code",
   "execution_count": 7,
   "id": "b60428fb",
   "metadata": {},
   "outputs": [],
   "source": [
    "Lst =[12.23, 13.32, 100, 36.32] \n",
    "arr = np.array(Lst)         "
   ]
  },
  {
   "cell_type": "code",
   "execution_count": null,
   "id": "161384a0",
   "metadata": {},
   "outputs": [],
   "source": [
    "print(arr)    ## 1-D array"
   ]
  },
  {
   "cell_type": "markdown",
   "id": "cadedf83",
   "metadata": {},
   "source": [
    "2. Create a 3x3 matrix with values ranging from 2 to 10.\n",
    "Expected Output:\n",
    "[[ 2 3 4]\n",
    "[ 5 6 7]\n",
    "[ 8 9 10]]\n"
   ]
  },
  {
   "cell_type": "code",
   "execution_count": null,
   "id": "26e8af2e",
   "metadata": {},
   "outputs": [],
   "source": [
    "newarr = np.arange(2,11).reshape(3,3)\n",
    "print(newarr)"
   ]
  },
  {
   "cell_type": "markdown",
   "id": "e26625f5",
   "metadata": {},
   "source": [
    "3. Write a Python program to create a null vector of size 10 and update sixth value to 11.\n",
    "[ 0. 0. 0. 0. 0. 0. 0. 0. 0. 0.]\n",
    "Update sixth value to 11\n",
    "[ 0. 0. 0. 0. 0. 0. 11. 0. 0. 0.]\n"
   ]
  },
  {
   "cell_type": "code",
   "execution_count": null,
   "id": "22c1968d",
   "metadata": {},
   "outputs": [],
   "source": [
    "newarr = np.zeros((10))  # Containing all zeros\n",
    "print(newarr)"
   ]
  },
  {
   "cell_type": "code",
   "execution_count": null,
   "id": "581b138f",
   "metadata": {},
   "outputs": [],
   "source": [
    "# Change the 6 th element into 11\n",
    "newarr[6] = 11\n",
    "print(newarr)"
   ]
  },
  {
   "cell_type": "markdown",
   "id": "d8b146c8",
   "metadata": {},
   "source": [
    "4. Write a Python program to reverse an array (first element becomes last).\n",
    "Original array:\n",
    "[12 13 14 15 16 17 18 19 20 21 22 23 24 25 26 27 28 29 30 31 32 33 34 35 36 37]\n",
    "Reverse array:\n",
    "[37 36 35 34 33 32 31 30 29 28 27 26 25 24 23 22 21 20 19 18 17 16 15 14 13 12]\n"
   ]
  },
  {
   "cell_type": "code",
   "execution_count": null,
   "id": "2e631ea1",
   "metadata": {},
   "outputs": [],
   "source": [
    "or_arr = np.arange(12,38)\n",
    "print(or_arr)"
   ]
  },
  {
   "cell_type": "code",
   "execution_count": null,
   "id": "f22618f8",
   "metadata": {},
   "outputs": [],
   "source": [
    "revers_arr = or_arr[: :-1]\n",
    "print(revers_arr)"
   ]
  },
  {
   "cell_type": "markdown",
   "id": "cfa0a3b0",
   "metadata": {},
   "source": [
    "5. Write a Python program to create a 2d array with 1 on the border and 0 inside.\n",
    "Expected Output\n",
    "\n",
    "Original array:\n",
    "[[ 1. 1. 1. 1. 1.]\n",
    "[ 1. 1. 1. 1. 1.]\n",
    "[ 1. 1. 1. 1. 1.]\n",
    "[ 1. 1. 1. 1. 1.]\n",
    "[ 1. 1. 1. 1. 1.]]\n",
    "\n",
    "\n",
    "1 on the border and 0 inside in the array\n",
    "[[ 1. 1. 1. 1. 1.]\n",
    "[ 1. 0. 0. 0. 1.]\n",
    "[ 1. 0. 0. 0. 1.]\n",
    "[ 1. 0. 0. 0. 1.]\n",
    "[ 1. 1. 1. 1. 1.]]\n",
    "\n",
    "\n",
    "\n"
   ]
  },
  {
   "cell_type": "code",
   "execution_count": null,
   "id": "814f4605",
   "metadata": {},
   "outputs": [],
   "source": [
    "orig_arr = np.ones((5,5)) #Creating a 5*5 array filled with ones\n",
    "print(\"Original Array \\n\")\n",
    "print(orig_arr)"
   ]
  },
  {
   "cell_type": "code",
   "execution_count": null,
   "id": "02dc8fba",
   "metadata": {},
   "outputs": [],
   "source": [
    "\n",
    "orig_arr[1:-1, 1:-1] = 0\n",
    "print(\"Modifying the array with Zero\")\n",
    "print(orig_arr)"
   ]
  },
  {
   "cell_type": "markdown",
   "id": "8924bb8f",
   "metadata": {},
   "source": [
    "6. Write a Python program to add a border (filled with 0's) around an existing array.\n",
    "Expected Output:\n",
    "Original array:\n",
    "[[ 1. 1. 1.]\n",
    "[ 1. 1. 1.]\n",
    "[ 1. 1. 1.]]\n",
    "1 on the border and 0 inside in the array\n",
    "[[ 0. 0. 0. 0. 0.]\n",
    "[ 0. 1. 1. 1. 0.]\n",
    "[ 0. 1. 1. 1. 0.]\n",
    "[ 0. 1. 1. 1. 0.]\n",
    "[ 0. 0. 0. 0. 0.]]\n"
   ]
  },
  {
   "cell_type": "code",
   "execution_count": null,
   "id": "eee879b7",
   "metadata": {},
   "outputs": [],
   "source": [
    "orig_arr = np.ones((3,3)) #Creating a 3*3 array filled with ones\n",
    "print(\"Original Array \\n\")\n",
    "print(orig_arr)"
   ]
  },
  {
   "cell_type": "code",
   "execution_count": null,
   "id": "4bcdd25f",
   "metadata": {},
   "outputs": [],
   "source": [
    "x= np.pad(orig_arr, pad_width = 1, mode =\"constant\", constant_values = 0)\n",
    "print(x)"
   ]
  },
  {
   "cell_type": "markdown",
   "id": "cd131176",
   "metadata": {},
   "source": [
    "7. Write a Python program to create a 8x8 matrix and fill it with a checkerboard pattern.\n",
    "Checkerboard pattern:\n",
    "[[0 1 0 1 0 1 0 1]\n",
    "[1 0 1 0 1 0 1 0]\n",
    "[0 1 0 1 0 1 0 1]\n",
    "[1 0 1 0 1 0 1 0]\n",
    "[0 1 0 1 0 1 0 1]\n",
    "[1 0 1 0 1 0 1 0]\n",
    "[0 1 0 1 0 1 0 1]\n",
    "[1 0 1 0 1 0 1 0]]"
   ]
  },
  {
   "cell_type": "code",
   "execution_count": null,
   "id": "69dd9d41",
   "metadata": {},
   "outputs": [],
   "source": [
    "x = np.zeros((8,8) , dtype = int)\n",
    "print(x)"
   ]
  },
  {
   "cell_type": "code",
   "execution_count": null,
   "id": "b549a6a0",
   "metadata": {},
   "outputs": [],
   "source": [
    "x[1::2 , ::2] = 1\n",
    "x[::2 , 1::2] = 1\n",
    "print(x)"
   ]
  },
  {
   "cell_type": "markdown",
   "id": "2fe63bb8",
   "metadata": {},
   "source": [
    "8. Write a Python program to convert a list and tuple into arrays.\n",
    "List to array:\n",
    "[1 2 3 4 5 6 7 8]\n",
    "Tuple to array:\n",
    "[[8 4 6]\n",
    "[1 2 3]]\n"
   ]
  },
  {
   "cell_type": "code",
   "execution_count": null,
   "id": "f912b5ba",
   "metadata": {},
   "outputs": [],
   "source": [
    "lst = [i for i in range(1,9)]\n",
    "print(lst)"
   ]
  },
  {
   "cell_type": "code",
   "execution_count": null,
   "id": "fdacdb32",
   "metadata": {},
   "outputs": [],
   "source": [
    "# converting list to array\n",
    "lst_arr = np.array(lst)\n",
    "print(lst_arr)"
   ]
  },
  {
   "cell_type": "code",
   "execution_count": null,
   "id": "3e7fbd5d",
   "metadata": {},
   "outputs": [],
   "source": [
    "tup = tuple(lst[::-1])\n",
    "print(tup)"
   ]
  },
  {
   "cell_type": "code",
   "execution_count": null,
   "id": "149ac9cb",
   "metadata": {},
   "outputs": [],
   "source": [
    " #converting tuples into 2-D array\n",
    "tup_arr = np.array(tup).reshape(2,4)\n",
    "print(tup_arr)"
   ]
  },
  {
   "cell_type": "markdown",
   "id": "9051e94f",
   "metadata": {},
   "source": [
    "9. Write a Python program to append values to the end of an array.\n",
    "Expected Output:\n",
    "Original array:\n",
    "[10, 20, 30]\n",
    "After append values to the end of the array:\n",
    "[10 20 30 40 50 60 70 80 90]\n"
   ]
  },
  {
   "cell_type": "code",
   "execution_count": null,
   "id": "12c482fc",
   "metadata": {},
   "outputs": [],
   "source": [
    "original_arr = np.array([i for i in range(10,31,10)])\n",
    "print(original_arr)"
   ]
  },
  {
   "cell_type": "code",
   "execution_count": null,
   "id": "93bfc650",
   "metadata": {},
   "outputs": [],
   "source": [
    "new_arr = np.append(original_arr,[40,50,60,70,80,90],axis=0)\n"
   ]
  },
  {
   "cell_type": "code",
   "execution_count": null,
   "id": "19cc9a0c",
   "metadata": {},
   "outputs": [],
   "source": [
    "print(new_arr)"
   ]
  },
  {
   "cell_type": "markdown",
   "id": "e62c99ba",
   "metadata": {},
   "source": [
    "10. Write a Python program to find the real and imaginary parts of an array of complex\n",
    "numbers.\n",
    "Expected Output:\n",
    "Original array [ 1.00000000+0.j 0.70710678+0.70710678j]\n",
    "Real part of the array:\n",
    "[ 1. 0.70710678]\n",
    "Imaginary part of the array:\n",
    "[ 0. 0.70710678]"
   ]
  },
  {
   "cell_type": "code",
   "execution_count": null,
   "id": "0a503dec",
   "metadata": {},
   "outputs": [],
   "source": [
    "x = np.sqrt([ 1.00000000 + 0.j])\n",
    "y= np.sqrt([0.70710678 + 0.70710678j])\n",
    "\n",
    "print(x.real, y.real) ## Real part\n",
    "print(x.imag , y.imag) ## Imaginary Part"
   ]
  },
  {
   "cell_type": "markdown",
   "id": "fdfe3f3c",
   "metadata": {},
   "source": [
    "11. Write a Python program to find the number of elements of an array, length of one\n",
    "array element in bytes and total bytes consumed by the elements\n"
   ]
  },
  {
   "cell_type": "code",
   "execution_count": null,
   "id": "7a46e8c5",
   "metadata": {},
   "outputs": [],
   "source": [
    "from numpy import random\n"
   ]
  },
  {
   "cell_type": "code",
   "execution_count": null,
   "id": "91ce93f0",
   "metadata": {},
   "outputs": [],
   "source": [
    "x = np.array([1,8,6,5], dtype = np.float64)\n",
    "print(x)"
   ]
  },
  {
   "cell_type": "code",
   "execution_count": null,
   "id": "b2943188",
   "metadata": {},
   "outputs": [],
   "source": [
    "print(\"Size of the array: \", x.size)\n",
    "\n",
    "print(\"Length of one array element in bytes: \", x.itemsize)\n",
    "\n",
    "print(\"Total bytes consumed by the elements of the array: \", x.nbytes)"
   ]
  },
  {
   "cell_type": "markdown",
   "id": "22d84fef",
   "metadata": {},
   "source": [
    "12. Write a Python program to find common values between two arrays.\n"
   ]
  },
  {
   "cell_type": "code",
   "execution_count": null,
   "id": "18f220e5",
   "metadata": {},
   "outputs": [],
   "source": [
    "arr_1 = np.array([0,10,20,30,50,40])\n",
    "arr_2 = np.array([5,10,15,20,25,30])\n",
    "\n",
    "arr_3 = np.intersect1d(arr_1,arr_2)\n",
    "print(arr_3)"
   ]
  },
  {
   "cell_type": "markdown",
   "id": "02197fbb",
   "metadata": {},
   "source": [
    "13. Write a Python program to find the set difference of two arrays. The set difference\n",
    "will return the sorted, unique values in array1 that are not in array2"
   ]
  },
  {
   "cell_type": "code",
   "execution_count": null,
   "id": "bab0ed18",
   "metadata": {},
   "outputs": [],
   "source": [
    "Array1 = [ 0 ,10 ,20, 40, 90, 80,100,60]\n",
    "Array2 = [10, 30, 40, 50, 70, 90]\n",
    "\n",
    "Array3 = np.setdiff1d(Array1,Array2)"
   ]
  },
  {
   "cell_type": "code",
   "execution_count": null,
   "id": "5ef17554",
   "metadata": {},
   "outputs": [],
   "source": [
    "print(Array3)"
   ]
  },
  {
   "cell_type": "markdown",
   "id": "8696fd16",
   "metadata": {},
   "source": [
    "14. Write a Python program to find the set exclusive-or of two arrays. Set exclusive-or\n",
    "will return the sorted, unique values that are in only one (not both) of the input arrays"
   ]
  },
  {
   "cell_type": "code",
   "execution_count": null,
   "id": "d08fb7c0",
   "metadata": {},
   "outputs": [],
   "source": [
    "Array1 = [ 0 ,10 ,20, 40, 90, 80,100,60]\n",
    "Array2 = [10, 30, 40, 50, 70, 90]\n",
    "\n",
    "Array3 = np.setxor1d(Array1,Array2)\n",
    "\n",
    "print(Array3)"
   ]
  },
  {
   "cell_type": "markdown",
   "id": "a8155874",
   "metadata": {},
   "source": [
    "15. Write a Python program compare two arrays using numpy"
   ]
  },
  {
   "cell_type": "code",
   "execution_count": 8,
   "id": "e44e650f",
   "metadata": {},
   "outputs": [
    {
     "name": "stdout",
     "output_type": "stream",
     "text": [
      "[ 1 60]\n",
      "[5 8]\n",
      "a > b\n",
      "[False  True]\n",
      "a >= b\n",
      "[False  True]\n",
      "a < b\n",
      "[ True False]\n",
      "a <= b\n",
      "[ True False]\n"
     ]
    }
   ],
   "source": [
    "arr1 = np.array([1,60])\n",
    "arr2 =np.array([5,8])\n",
    "\n",
    "print(arr1)\n",
    "print(arr2)\n",
    "\n",
    "print(\"a > b\")\n",
    "print(np.greater(arr1,arr2))\n",
    "\n",
    "print(\"a >= b\")\n",
    "print(np.greater_equal(arr1,arr2))\n",
    "\n",
    "print(\"a < b\")\n",
    "print(np.less(arr1,arr2))\n",
    "\n",
    "print(\"a <= b\")\n",
    "print(np.less_equal(arr1,arr2))"
   ]
  },
  {
   "cell_type": "code",
   "execution_count": null,
   "id": "622bc558",
   "metadata": {},
   "outputs": [],
   "source": [
    "x = np.arange(12).reshape(3,4)\n",
    "print(\"Before loading in the file\\n\")\n",
    "print(x)\n",
    "\n",
    "header = 'col1 col2 col3'\n",
    "\n",
    "np.savetxt('temp.txt', x ,fmt = '%d' , header = header)\n",
    "\n",
    "print(\"\\nAfter loading the file \\n\")\n",
    "\n",
    "result = np.loadtxt('temp.txt')\n",
    "\n",
    "print(result)"
   ]
  },
  {
   "cell_type": "markdown",
   "id": "43132636",
   "metadata": {},
   "source": [
    "16. Write a Python program to create a contiguous flattened array.\n",
    "Original array:\n",
    "[[10 20 30]\n",
    "[20 40 50]]\n",
    "New flattened array:\n",
    "[10 20 30 20 40 50]"
   ]
  },
  {
   "cell_type": "code",
   "execution_count": null,
   "id": "c25adab5",
   "metadata": {},
   "outputs": [],
   "source": [
    "array = np.array([[10, 20 ,30], [20 ,40 ,50]] ) .reshape(-1)"
   ]
  },
  {
   "cell_type": "code",
   "execution_count": null,
   "id": "fbeba001",
   "metadata": {},
   "outputs": [],
   "source": [
    "print(array)"
   ]
  },
  {
   "cell_type": "markdown",
   "id": "f4029a63",
   "metadata": {},
   "source": [
    "17. Write a Python program to change the data type of an array."
   ]
  },
  {
   "cell_type": "code",
   "execution_count": null,
   "id": "8627cf06",
   "metadata": {},
   "outputs": [],
   "source": [
    "arr = np.array([[2,4,6],[6,8,10]], dtype = np.int32)\n",
    "x = arr.astype(float)"
   ]
  },
  {
   "cell_type": "code",
   "execution_count": null,
   "id": "a9b72dd3",
   "metadata": {},
   "outputs": [],
   "source": [
    "print(arr)\n",
    "\n",
    "print(\"\\n Data Type of the array :\",arr.dtype)\n",
    "\n",
    "print(x)\n",
    "print(\"\\n New Data Type of the array : \" ,x.dtype)\n"
   ]
  },
  {
   "cell_type": "raw",
   "id": "48770c3e",
   "metadata": {},
   "source": []
  },
  {
   "cell_type": "markdown",
   "id": "cc6f991f",
   "metadata": {},
   "source": [
    "18. Write a Python program to create a 3-D array with ones on a diagonal and zeros\n",
    "elsewhere"
   ]
  },
  {
   "cell_type": "code",
   "execution_count": null,
   "id": "bf4dbc5c",
   "metadata": {},
   "outputs": [],
   "source": [
    "arr = np.eye(3)"
   ]
  },
  {
   "cell_type": "code",
   "execution_count": null,
   "id": "bbce6dab",
   "metadata": {},
   "outputs": [],
   "source": [
    "print(arr)"
   ]
  },
  {
   "cell_type": "markdown",
   "id": "751f24a0",
   "metadata": {},
   "source": [
    "19. Write a Python program to create an array which looks like below array.\n",
    "Expected Output"
   ]
  },
  {
   "cell_type": "code",
   "execution_count": null,
   "id": "1f8af5b0",
   "metadata": {},
   "outputs": [],
   "source": [
    "up_trigular = np.tri(4,3 , -1 )"
   ]
  },
  {
   "cell_type": "code",
   "execution_count": null,
   "id": "09936d6d",
   "metadata": {},
   "outputs": [],
   "source": [
    "print(up_trigular)"
   ]
  },
  {
   "cell_type": "markdown",
   "id": "acb23bd2",
   "metadata": {},
   "source": [
    "20. Write a Python program to concatenate two 2-dimensional arrays."
   ]
  },
  {
   "cell_type": "code",
   "execution_count": null,
   "id": "2f4bc7d7",
   "metadata": {},
   "outputs": [],
   "source": [
    "a1 = np.arange(0,6).reshape(2,3)\n",
    "a2 = np.arange(5,11).reshape(2,3)\n",
    "\n",
    "print(a1)\n",
    "print(a2)"
   ]
  },
  {
   "cell_type": "code",
   "execution_count": null,
   "id": "e414f735",
   "metadata": {},
   "outputs": [],
   "source": [
    "arr3 = np.concatenate((a1,a2), axis=1)\n",
    "print(arr3)"
   ]
  },
  {
   "cell_type": "markdown",
   "id": "28909055",
   "metadata": {},
   "source": [
    "21. Write a Python program to make an array immutable (read-only)"
   ]
  },
  {
   "cell_type": "code",
   "execution_count": null,
   "id": "0c1fb53e",
   "metadata": {},
   "outputs": [],
   "source": [
    "\n",
    "x = np.array([1, 2, 3, 4, 5])\n",
    "\n",
    "x.flags.writeable = False\n",
    "\n",
    "print(\"Test the array is read-only or not:\")\n",
    "\n",
    "try:\n",
    "  \n",
    "    x[0] = 10\n",
    "except ValueError as e:\n",
    "    \n",
    "    print(e)\n"
   ]
  },
  {
   "cell_type": "markdown",
   "id": "5efd688e",
   "metadata": {},
   "source": [
    "22. Write a Python program to create an array of (3, 4) shape, multiply every element\n",
    "value by 3 and display the new array"
   ]
  },
  {
   "cell_type": "code",
   "execution_count": null,
   "id": "30b9261d",
   "metadata": {},
   "outputs": [],
   "source": [
    "org = np.arange(12).reshape(3,4)\n",
    "print(org)"
   ]
  },
  {
   "cell_type": "code",
   "execution_count": null,
   "id": "3aeb34ef",
   "metadata": {},
   "outputs": [],
   "source": [
    "new = org *3\n",
    "print(new)"
   ]
  },
  {
   "cell_type": "markdown",
   "id": "94f7b848",
   "metadata": {},
   "source": [
    "23. Write a Python program to convert a NumPy array into Python list structure.\n",
    "Expected Output:"
   ]
  },
  {
   "cell_type": "code",
   "execution_count": null,
   "id": "7267917c",
   "metadata": {},
   "outputs": [],
   "source": [
    "array = np.arange(6).reshape(3,2)"
   ]
  },
  {
   "cell_type": "code",
   "execution_count": null,
   "id": "0daeeb38",
   "metadata": {},
   "outputs": [],
   "source": [
    "print(array)"
   ]
  },
  {
   "cell_type": "code",
   "execution_count": null,
   "id": "f3b526e4",
   "metadata": {},
   "outputs": [],
   "source": [
    "lst = [i for i in array]"
   ]
  },
  {
   "cell_type": "code",
   "execution_count": null,
   "id": "546d0527",
   "metadata": {},
   "outputs": [],
   "source": [
    "print(lst)"
   ]
  },
  {
   "cell_type": "markdown",
   "id": "a5f58bf3",
   "metadata": {},
   "source": [
    "24. Write a Python program to convert a NumPy array into Python list structure.\n",
    "Expected Output:"
   ]
  },
  {
   "cell_type": "code",
   "execution_count": null,
   "id": "d6539bf3",
   "metadata": {},
   "outputs": [],
   "source": [
    "\n",
    "original_array = np.array([0.26153123, 0.52760141, 0.5718299, 0.5927067, 0.7831874, \n",
    "                           0.69746349, 0.35399976, 0.99469633, 0.0694458, 0.54711478])\n",
    "\n",
    "np.set_printoptions(precision=3)\n",
    "\n",
    "\n",
    "print(\"Array values with precision 3:\")\n",
    "print(original_array)\n"
   ]
  },
  {
   "cell_type": "markdown",
   "id": "e3e040bb",
   "metadata": {},
   "source": [
    "25. Write a Python program to suppresses the use of scientific notation for small\n",
    "numbers in numpy array"
   ]
  },
  {
   "cell_type": "code",
   "execution_count": null,
   "id": "e224eeb9",
   "metadata": {},
   "outputs": [],
   "source": [
    "\n",
    "original_array = np.array([1.60000000e-10, 1.60000000e+00, 1.20000000e+03, 2.35000000e-01])\n",
    "\n",
    "# Set print options to suppress scientific notation and set precision\n",
    "np.set_printoptions(suppress=True, precision=3)\n",
    "\n",
    "# Print the original array elements\n",
    "print(\"Original array elements:\")\n",
    "print(original_array)\n",
    "\n",
    "# Print the array values with specified precision\n",
    "print(\"\\nPrint array values with precision 3:\")\n",
    "print(original_array)\n"
   ]
  },
  {
   "cell_type": "code",
   "execution_count": null,
   "id": "578ef741",
   "metadata": {},
   "outputs": [],
   "source": []
  },
  {
   "cell_type": "markdown",
   "id": "9cd60191",
   "metadata": {},
   "source": [
    "26. Write a Python program to how to add an extra column to an numpy array\n"
   ]
  },
  {
   "cell_type": "code",
   "execution_count": null,
   "id": "4a86a11a",
   "metadata": {},
   "outputs": [],
   "source": [
    "x = np.array([[10, 20, 30], [40, 50, 60]])\n",
    "print(x)"
   ]
  },
  {
   "cell_type": "code",
   "execution_count": null,
   "id": "8540d0ed",
   "metadata": {},
   "outputs": [],
   "source": [
    "y = np.array([[100], [200]])"
   ]
  },
  {
   "cell_type": "code",
   "execution_count": null,
   "id": "dba0b717",
   "metadata": {},
   "outputs": [],
   "source": [
    "print(np.append(x,y,axis=1))"
   ]
  },
  {
   "cell_type": "markdown",
   "id": "89430d24",
   "metadata": {},
   "source": [
    "27. Write a Python program to remove specific elements in a numpy array\n"
   ]
  },
  {
   "cell_type": "code",
   "execution_count": null,
   "id": "71abd488",
   "metadata": {},
   "outputs": [],
   "source": [
    "array = np.array([i for i in range(10,101,10)])"
   ]
  },
  {
   "cell_type": "code",
   "execution_count": null,
   "id": "55d3af38",
   "metadata": {},
   "outputs": [],
   "source": [
    "print(array)"
   ]
  },
  {
   "cell_type": "code",
   "execution_count": null,
   "id": "f66e0be6",
   "metadata": {},
   "outputs": [],
   "source": [
    "remove = [0,3,4]\n",
    "\n",
    "np.delete(array,remove)"
   ]
  },
  {
   "cell_type": "code",
   "execution_count": null,
   "id": "bc703607",
   "metadata": {},
   "outputs": [],
   "source": []
  }
 ],
 "metadata": {
  "kernelspec": {
   "display_name": "Python 3 (ipykernel)",
   "language": "python",
   "name": "python3"
  },
  "language_info": {
   "codemirror_mode": {
    "name": "ipython",
    "version": 3
   },
   "file_extension": ".py",
   "mimetype": "text/x-python",
   "name": "python",
   "nbconvert_exporter": "python",
   "pygments_lexer": "ipython3",
   "version": "3.10.12"
  }
 },
 "nbformat": 4,
 "nbformat_minor": 5
}
