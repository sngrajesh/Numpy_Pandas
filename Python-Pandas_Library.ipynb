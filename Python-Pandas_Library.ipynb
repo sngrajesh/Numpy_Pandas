{
 "cells": [
  {
   "cell_type": "code",
   "execution_count": 1,
   "id": "55b4a9b5-a6a0-4b84-8d49-ae53567fab27",
   "metadata": {},
   "outputs": [],
   "source": [
    "import pandas as pd\n",
    "import numpy as np"
   ]
  },
  {
   "cell_type": "markdown",
   "id": "ebfdd1c4-e359-455d-b29e-aad3a5a8ddcb",
   "metadata": {},
   "source": [
    "1. Write a Python program to create and display a one-dimensional array-like objectcontaining an array of data using Pandas module."
   ]
  },
  {
   "cell_type": "code",
   "execution_count": 2,
   "id": "0904f86c-b790-4895-83d7-31d2ee7e86a4",
   "metadata": {},
   "outputs": [
    {
     "name": "stdout",
     "output_type": "stream",
     "text": [
      "One-dimensional array-like object (Series):\n",
      "0    1\n",
      "1    2\n",
      "2    3\n",
      "3    4\n",
      "4    5\n",
      "dtype: int64\n"
     ]
    }
   ],
   "source": [
    "# Create a one-dimensional array-like object\n",
    "data = [1, 2, 3, 4, 5]\n",
    "series = pd.Series(data)\n",
    "\n",
    "# Display the Series\n",
    "print(\"One-dimensional array-like object (Series):\")\n",
    "print(series)"
   ]
  },
  {
   "cell_type": "markdown",
   "id": "673c799e-34a9-4bef-b5bc-e8b410bbebaf",
   "metadata": {},
   "source": [
    "2. Write a Python program to convert a Panda module Series to Python list and it's type."
   ]
  },
  {
   "cell_type": "code",
   "execution_count": 3,
   "id": "5fa02159-9b0e-42a4-a528-dd5e315f81fe",
   "metadata": {},
   "outputs": [
    {
     "name": "stdout",
     "output_type": "stream",
     "text": [
      "Original Series:\n",
      "0    1\n",
      "1    2\n",
      "2    3\n",
      "3    4\n",
      "4    5\n",
      "dtype: int64\n",
      "\n",
      "Converted Python List:\n",
      "[1, 2, 3, 4, 5]\n",
      "\n",
      "Type of the converted list:\n",
      "<class 'list'>\n"
     ]
    }
   ],
   "source": [
    "# Create a Pandas Series\n",
    "data = [1, 2, 3, 4, 5]\n",
    "series = pd.Series(data)\n",
    "print(\"Original Series:\")\n",
    "print(series)\n",
    "\n",
    "# Convert the Series to a Python list\n",
    "python_list = series.tolist()\n",
    "print(\"\\nConverted Python List:\")\n",
    "print(python_list)\n",
    "print(\"\\nType of the converted list:\")\n",
    "print(type(python_list))"
   ]
  },
  {
   "cell_type": "raw",
   "id": "bad35625-283b-4b12-9454-5ffae5bbf142",
   "metadata": {},
   "source": [
    "3. Write a Python program to add, subtract, multiple and divide two Pandas Series.\n",
    "Sample Series: [2, 4, 6, 8, 10], [1, 3, 5, 7, 9]"
   ]
  },
  {
   "cell_type": "code",
   "execution_count": 4,
   "id": "9004529f-fce5-4691-b2eb-c47c242b7836",
   "metadata": {},
   "outputs": [
    {
     "name": "stdout",
     "output_type": "stream",
     "text": [
      "0     3\n",
      "1     7\n",
      "2    11\n",
      "3    15\n",
      "4    19\n",
      "dtype: int64\n",
      "0    1\n",
      "1    1\n",
      "2    1\n",
      "3    1\n",
      "4    1\n",
      "dtype: int64\n",
      "0     2\n",
      "1    12\n",
      "2    30\n",
      "3    56\n",
      "4    90\n",
      "dtype: int64\n",
      "0    2.000000\n",
      "1    1.333333\n",
      "2    1.200000\n",
      "3    1.142857\n",
      "4    1.111111\n",
      "dtype: float64\n"
     ]
    }
   ],
   "source": [
    "series1 = pd.Series([2, 4, 6, 8, 10])\n",
    "series2 = pd.Series([1, 3, 5, 7, 9])\n",
    "add = series1.add(series2)\n",
    "sub = series1.sub(series2)\n",
    "mul = series1.mul(series2)\n",
    "div = series1.div(series2)\n",
    "\n",
    "print(add, sub, mul, div, sep = \"\\n\")\n"
   ]
  },
  {
   "cell_type": "raw",
   "id": "42abc38e-b6e8-41c4-a0de-f7cd423f30b6",
   "metadata": {},
   "source": [
    "4. Write a Python program to get the powers of an array values element-wise.\n",
    "Note: First array elements raised to powers from second array\n",
    "Expected Output:\n",
    "Original array\n",
    "[0 1 2 3 4 5 6]\n",
    "\n",
    "First array elements raised to powers from second array, element-wise:\n",
    "[ 0 1 8 27 64 125 216]"
   ]
  },
  {
   "cell_type": "code",
   "execution_count": 5,
   "id": "8f3a85d0-f8e1-4d19-a184-e13e07f355d5",
   "metadata": {},
   "outputs": [
    {
     "name": "stdout",
     "output_type": "stream",
     "text": [
      "0      0\n",
      "1      1\n",
      "2      8\n",
      "3     27\n",
      "4     64\n",
      "5    125\n",
      "6    216\n",
      "dtype: int64\n"
     ]
    }
   ],
   "source": [
    "val_series = pd.Series([0, 1, 2, 3, 4, 5, 6])\n",
    "pow_series = pd.Series([3, 3, 3, 3, 3, 3, 3])\n",
    "ans_series = val_series.pow(pow_series)\n",
    "print(ans_series)"
   ]
  },
  {
   "cell_type": "raw",
   "id": "f1f12b92-47f5-456c-9020-a557b6df8e04",
   "metadata": {},
   "source": [
    "5. Write a Python program to create and display a DataFrame from a specified dictionary data which has the index labels.\n",
    "Sample Python dictionary data and list labels:\n",
    "exam_data = {\n",
    "    'name': ['Anastasia', 'Dima', 'Katherine', 'James', 'Emily', 'Michael', 'Matthew', 'Laura', 'Kevin', 'Jonas'],\n",
    "    'score': [12.5, 9, 16.5, np.nan, 9, 20, 14.5, np.nan, 8, 19],\n",
    "    'attempts': [1, 3, 2, 3, 2, 3, 1, 1, 2, 1],\n",
    "    'qualify': ['yes', 'no', 'yes', 'no', 'no', 'yes', 'yes', 'no', 'no', 'yes']\n",
    "}\n",
    "\n",
    "labels = ['a', 'b', 'c', 'd', 'e', 'f', 'g', 'h', 'i', 'j']"
   ]
  },
  {
   "cell_type": "code",
   "execution_count": 6,
   "id": "6d176b8d-ce1a-4536-8976-8ed8ab4aa857",
   "metadata": {},
   "outputs": [],
   "source": [
    "exam_data = {\n",
    "    'name': ['Anastasia', 'Dima', 'Katherine', 'James', 'Emily', 'Michael', 'Matthew', 'Laura', 'Kevin', 'Jonas'],\n",
    "    'score': [12.5, 9, 16.5, np.nan, 9, 20, 14.5, np.nan, 8, 19],\n",
    "    'attempts': [1, 3, 2, 3, 2, 3, 1, 1, 2, 1],\n",
    "    'qualify': ['yes', 'no', 'yes', 'no', 'no', 'yes', 'yes', 'no', 'no', 'yes']\n",
    "}\n",
    "labels = ['a', 'b', 'c', 'd', 'e', 'f', 'g', 'h', 'i', 'j']"
   ]
  },
  {
   "cell_type": "code",
   "execution_count": 7,
   "id": "831a95a5-c3e4-42a4-9979-125d0982b193",
   "metadata": {},
   "outputs": [
    {
     "name": "stdout",
     "output_type": "stream",
     "text": [
      "        name  score  attempts qualify\n",
      "a  Anastasia   12.5         1     yes\n",
      "b       Dima    9.0         3      no\n",
      "c  Katherine   16.5         2     yes\n",
      "d      James    NaN         3      no\n",
      "e      Emily    9.0         2      no\n",
      "f    Michael   20.0         3     yes\n",
      "g    Matthew   14.5         1     yes\n",
      "h      Laura    NaN         1      no\n",
      "i      Kevin    8.0         2      no\n",
      "j      Jonas   19.0         1     yes\n"
     ]
    }
   ],
   "source": [
    "# Creating Dataframe\n",
    "df_dict = pd.DataFrame(exam_data, index=labels)\n",
    "print(df_dict)"
   ]
  },
  {
   "cell_type": "raw",
   "id": "0585f7d8-4cf5-4fe1-a5a6-101f5fa2af08",
   "metadata": {},
   "source": [
    "6. Write a Python program to display a summary of the basic information about a specified Data Frame and its data.\n",
    "Sample Python dictionary data and list labels:\n",
    "exam_data = {\n",
    "    'name': ['Anastasia', 'Dima', 'Katherine', 'James', 'Emily', 'Michael', 'Matthew', 'Laura', 'Kevin', 'Jonas'],\n",
    "    'score': [12.5, 9, 16.5, np.nan, 9, 20, 14.5, np.nan, 8, 19],\n",
    "    'attempts': [1, 3, 2, 3, 2, 3, 1, 1, 2, 1],\n",
    "    'qualify': ['yes', 'no', 'yes', 'no', 'no', 'yes', 'yes', 'no', 'no', 'yes']\n",
    "}\n",
    "labels = ['a', 'b', 'c', 'd', 'e', 'f', 'g', 'h', 'i', 'j']"
   ]
  },
  {
   "cell_type": "code",
   "execution_count": 8,
   "id": "4f4f0e28-6166-444a-9c0d-0afa15b63736",
   "metadata": {},
   "outputs": [
    {
     "name": "stdout",
     "output_type": "stream",
     "text": [
      "Summary Information:\n",
      "<class 'pandas.core.frame.DataFrame'>\n",
      "Index: 10 entries, a to j\n",
      "Data columns (total 4 columns):\n",
      " #   Column    Non-Null Count  Dtype  \n",
      "---  ------    --------------  -----  \n",
      " 0   name      10 non-null     object \n",
      " 1   score     8 non-null      float64\n",
      " 2   attempts  10 non-null     int64  \n",
      " 3   qualify   10 non-null     object \n",
      "dtypes: float64(1), int64(1), object(2)\n",
      "memory usage: 400.0+ bytes\n",
      "None\n",
      "\n",
      "Basic Statistics:\n",
      "           score   attempts\n",
      "count   8.000000  10.000000\n",
      "mean   13.562500   1.900000\n",
      "std     4.693746   0.875595\n",
      "min     8.000000   1.000000\n",
      "25%     9.000000   1.000000\n",
      "50%    13.500000   2.000000\n",
      "75%    17.125000   2.750000\n",
      "max    20.000000   3.000000\n",
      "\n",
      "First Few Rows:\n",
      "        name  score  attempts qualify\n",
      "a  Anastasia   12.5         1     yes\n",
      "b       Dima    9.0         3      no\n",
      "c  Katherine   16.5         2     yes\n",
      "d      James    NaN         3      no\n",
      "e      Emily    9.0         2      no\n",
      "\n",
      "Last Few Rows:\n",
      "      name  score  attempts qualify\n",
      "f  Michael   20.0         3     yes\n",
      "g  Matthew   14.5         1     yes\n",
      "h    Laura    NaN         1      no\n",
      "i    Kevin    8.0         2      no\n",
      "j    Jonas   19.0         1     yes\n"
     ]
    }
   ],
   "source": [
    "# Display summary information\n",
    "print(\"Summary Information:\")\n",
    "print(df_dict.info())\n",
    "\n",
    "# Display basic statistics\n",
    "print(\"\\nBasic Statistics:\")\n",
    "print(df_dict.describe())\n",
    "\n",
    "# Display first few rows\n",
    "print(\"\\nFirst Few Rows:\")\n",
    "print(df_dict.head())\n",
    "\n",
    "# Display last few rows\n",
    "print(\"\\nLast Few Rows:\")\n",
    "print(df_dict.tail())"
   ]
  },
  {
   "cell_type": "raw",
   "id": "fec2ad8e-7e61-41af-91ea-9721bd103287",
   "metadata": {},
   "source": [
    "7. Write a Python program to get the first 3 rows of a given DataFrame.\n",
    "Sample Python dictionary data and list labels:\n",
    "exam_data = {\n",
    "    'name': ['Anastasia', 'Dima', 'Katherine', 'James', 'Emily', 'Michael', 'Matthew', 'Laura', 'Kevin', 'Jonas'],\n",
    "    'score': [12.5, 9, 16.5, np.nan, 9, 20, 14.5, np.nan, 8, 19],\n",
    "    'attempts': [1, 3, 2, 3, 2, 3, 1, 1, 2, 1],\n",
    "    'qualify': ['yes', 'no', 'yes', 'no', 'no', 'yes', 'yes', 'no', 'no', 'yes']\n",
    "}\n",
    "labels = ['a', 'b', 'c', 'd', 'e', 'f', 'g', 'h', 'i', 'j']"
   ]
  },
  {
   "cell_type": "code",
   "execution_count": 9,
   "id": "bb19803a-5335-45c8-a34a-3dc040d5e0f5",
   "metadata": {},
   "outputs": [
    {
     "name": "stdout",
     "output_type": "stream",
     "text": [
      "\n",
      "First Few Rows:\n",
      "        name  score  attempts qualify\n",
      "a  Anastasia   12.5         1     yes\n",
      "b       Dima    9.0         3      no\n",
      "c  Katherine   16.5         2     yes\n"
     ]
    }
   ],
   "source": [
    "# Display first 3 rows\n",
    "print(\"\\nFirst Few Rows:\")\n",
    "print(df_dict.head(3))"
   ]
  },
  {
   "cell_type": "raw",
   "id": "bcfddceb-9d51-454d-bdf3-f79b948bbbfb",
   "metadata": {},
   "source": [
    "8. Write a Python program to select the 'name' and 'score' columns from the following DataFrame.\n",
    "Sample Python dictionary data and list labels:\n",
    "exam_data = {\n",
    "    'name': ['Anastasia', 'Dima', 'Katherine', 'James', 'Emily', 'Michael', 'Matthew', 'Laura', 'Kevin', 'Jonas'],\n",
    "    'score': [12.5, 9, 16.5, np.nan, 9, 20, 14.5, np.nan, 8, 19],\n",
    "    'attempts': [1, 3, 2, 3, 2, 3, 1, 1, 2, 1],\n",
    "    'qualify': ['yes', 'no', 'yes', 'no', 'no', 'yes', 'yes', 'no', 'no', 'yes']\n",
    "}\n",
    "labels = ['a', 'b', 'c', 'd', 'e', 'f', 'g', 'h', 'i', 'j']"
   ]
  },
  {
   "cell_type": "code",
   "execution_count": 10,
   "id": "49fe6c1a-bacb-4115-bda3-ee1e5d822803",
   "metadata": {},
   "outputs": [
    {
     "name": "stdout",
     "output_type": "stream",
     "text": [
      "        name  score\n",
      "a  Anastasia   12.5\n",
      "b       Dima    9.0\n",
      "c  Katherine   16.5\n",
      "d      James    NaN\n",
      "e      Emily    9.0\n",
      "f    Michael   20.0\n",
      "g    Matthew   14.5\n",
      "h      Laura    NaN\n",
      "i      Kevin    8.0\n",
      "j      Jonas   19.0\n"
     ]
    }
   ],
   "source": [
    "# Select 'name' and 'score' columns\n",
    "selected_df = df_dict[['name', 'score']]\n",
    "print(selected_df)"
   ]
  },
  {
   "cell_type": "raw",
   "id": "ea748d3a-fe8c-46dd-bc89-5db919e07dc4",
   "metadata": {},
   "source": [
    "9. Write a Python program to select the specified columns and rows from a given data frame.\n",
    "Select 'name' and 'score' columns in rows 1, 3, 5, 6 from the following data frame.\n",
    "exam_data = {\n",
    "    'name': ['Anastasia', 'Dima', 'Katherine', 'James', 'Emily', 'Michael', 'Matthew', 'Laura', 'Kevin', 'Jonas'],\n",
    "    'score': [12.5, 9, 16.5, np.nan, 9, 20, 14.5, np.nan, 8, 19],\n",
    "    'attempts': [1, 3, 2, 3, 2, 3, 1, 1, 2, 1],\n",
    "    'qualify': ['yes', 'no', 'yes', 'no', 'no', 'yes', 'yes', 'no', 'no', 'yes']\n",
    "}\n",
    "labels = ['a', 'b', 'c', 'd', 'e', 'f', 'g', 'h', 'i', 'j']"
   ]
  },
  {
   "cell_type": "code",
   "execution_count": 11,
   "id": "26d5e603-965e-4764-ba43-47afcfaef032",
   "metadata": {},
   "outputs": [
    {
     "name": "stdout",
     "output_type": "stream",
     "text": [
      "      name  score\n",
      "b     Dima    9.0\n",
      "d    James    NaN\n",
      "f  Michael   20.0\n",
      "g  Matthew   14.5\n"
     ]
    }
   ],
   "source": [
    "# Select 'name' and 'score' columns in rows 1, 3, 5, 6\n",
    "selected_df = df_dict.loc[[labels[1], labels[3], labels[5], labels[6]], ['name', 'score']]\n",
    "print(selected_df)"
   ]
  },
  {
   "cell_type": "raw",
   "id": "0552e187-7d10-4ef9-8c9f-9babb0f5e857",
   "metadata": {},
   "source": [
    "10. Write a Python program to select the rows where the number of attempts in the examination is greater than 2.\n",
    "exam_data = {\n",
    "    'name': ['Anastasia', 'Dima', 'Katherine', 'James', 'Emily', 'Michael', 'Matthew','Laura', 'Kevin', 'Jonas'],\n",
    "    'score': [12.5, 9, 16.5, np.nan, 9, 20, 14.5, np.nan, 8, 19],\n",
    "    'attempts': [1, 3, 2, 3, 2, 3, 1, 1, 2, 1],\n",
    "    'qualify': ['yes', 'no', 'yes', 'no', 'no', 'yes', 'yes', 'no', 'no', 'yes']\n",
    "}\n",
    "labels = ['a', 'b', 'c', 'd', 'e', 'f', 'g', 'h', 'i', 'j']"
   ]
  },
  {
   "cell_type": "code",
   "execution_count": 12,
   "id": "7a062592-36dd-4e04-bc27-781394cdca96",
   "metadata": {},
   "outputs": [
    {
     "name": "stdout",
     "output_type": "stream",
     "text": [
      "      name  score  attempts qualify\n",
      "b     Dima    9.0         3      no\n",
      "d    James    NaN         3      no\n",
      "f  Michael   20.0         3     yes\n"
     ]
    }
   ],
   "source": [
    "# Rows where the number of attempts in the examination is greater than 2.\n",
    "selected_df = df_dict[df_dict['attempts'] > 2]\n",
    "print(selected_df)"
   ]
  },
  {
   "cell_type": "raw",
   "id": "b66035b7-8108-4c90-885c-e0855b717b00",
   "metadata": {},
   "source": [
    "11. Write a Python program to count the number of rows and columns of a DataFrame.\n",
    "Sample data:\n",
    "exam_data = {\n",
    "    'name': ['Anastasia', 'Dima', 'Katherine', 'James', 'Emily', 'Michael', 'Matthew','Laura', 'Kevin', 'Jonas'],\n",
    "    'score': [12.5, 9, 16.5, np.nan, 9, 20, 14.5, np.nan, 8, 19],\n",
    "    'attempts': [1, 3, 2, 3, 2, 3, 1, 1, 2, 1],\n",
    "    'qualify': ['yes', 'no', 'yes', 'no', 'no', 'yes', 'yes', 'no', 'no', 'yes']\n",
    "}\n",
    "labels = ['a', 'b', 'c', 'd', 'e', 'f', 'g', 'h', 'i', 'j']"
   ]
  },
  {
   "cell_type": "code",
   "execution_count": 13,
   "id": "e2c0445e-2019-43fa-aa6c-96338c763c94",
   "metadata": {},
   "outputs": [
    {
     "name": "stdout",
     "output_type": "stream",
     "text": [
      "Number of rows: 10\n",
      "Number of rows (shape): 10\n",
      "Number of rows (count): 10\n"
     ]
    }
   ],
   "source": [
    "print(\"Number of rows:\", len(df_dict))\n",
    "print(\"Number of rows (shape):\", df_dict.shape[0])\n",
    "print(\"Number of rows (count):\", df_dict.count().iloc[0])"
   ]
  },
  {
   "cell_type": "raw",
   "id": "05557744-91b2-44bb-9377-c32ea005e4bd",
   "metadata": {},
   "source": [
    "12. Write a Python program to select the rows where the score is missing, i.e. is NaN.\n",
    "exam_data = {\n",
    "    'name': ['Anastasia', 'Dima', 'Katherine', 'James', 'Emily', 'Michael', 'Matthew','Laura', 'Kevin', 'Jonas'],\n",
    "    'score': [12.5, 9, 16.5, np.nan, 9, 20, 14.5, np.nan, 8, 19],\n",
    "    'attempts': [1, 3, 2, 3, 2, 3, 1, 1, 2, 1],\n",
    "    'qualify': ['yes', 'no', 'yes', 'no', 'no', 'yes', 'yes', 'no', 'no', 'yes']\n",
    "}\n",
    "labels = ['a', 'b', 'c', 'd', 'e', 'f', 'g', 'h', 'i', 'j']"
   ]
  },
  {
   "cell_type": "code",
   "execution_count": 14,
   "id": "89823d0b-ce7b-4a49-84ce-230a9cd223a1",
   "metadata": {},
   "outputs": [
    {
     "name": "stdout",
     "output_type": "stream",
     "text": [
      "    name  score  attempts qualify\n",
      "d  James    NaN         3      no\n",
      "h  Laura    NaN         1      no\n"
     ]
    }
   ],
   "source": [
    "# Select the rows where the score is missing, i.e. is NaN.\n",
    "nan_score_rows = df_dict[df_dict['score'].isna()]\n",
    "print(nan_score_rows)"
   ]
  },
  {
   "cell_type": "markdown",
   "id": "5e78ec40-dd72-45ea-b411-236f025e70de",
   "metadata": {},
   "source": [
    "13. Write a Python program to select the rows where number of attempts in the\n",
    "examination is less than 2 and score greater than 15.\n"
   ]
  },
  {
   "cell_type": "code",
   "execution_count": 15,
   "id": "f6a4ce90-67b0-4b58-807e-6e35d0615089",
   "metadata": {},
   "outputs": [
    {
     "name": "stdout",
     "output_type": "stream",
     "text": [
      "    name  score  attempts qualify\n",
      "j  Jonas   19.0         1     yes\n"
     ]
    }
   ],
   "source": [
    "# Rows where number of attempts in the examination is less than 2 and score greater than 15.\n",
    "selected_rows = df_dict[(df_dict['attempts'] < 2) & (df_dict['score'] > 15)]\n",
    "print(selected_rows)"
   ]
  },
  {
   "cell_type": "raw",
   "id": "ac1c8679-ffe4-4218-b08d-c777d2f964f4",
   "metadata": {},
   "source": [
    "14. Write a Python program to change the score in row 'd' to 11.5.\n",
    "exam_data = {\n",
    "    'name': ['Anastasia', 'Dima', 'Katherine', 'James', 'Emily', 'Michael', 'Matthew', 'Laura', 'Kevin', 'Jonas'],\n",
    "    'score': [12.5, 9, 16.5, np.nan, 9, 20, 14.5, np.nan, 8, 19],\n",
    "    'attempts': [1, 3, 2, 3, 2, 3, 1, 1, 2, 1],\n",
    "    'qualify': ['yes', 'no', 'yes', 'no', 'no', 'yes', 'yes', 'no', 'no', 'yes']\n",
    "}\n",
    "labels = ['a', 'b', 'c', 'd', 'e', 'f', 'g', 'h', 'i', 'j']"
   ]
  },
  {
   "cell_type": "code",
   "execution_count": 16,
   "id": "33969c95-1a6e-44b6-b689-5fad64ed37ed",
   "metadata": {},
   "outputs": [
    {
     "name": "stdout",
     "output_type": "stream",
     "text": [
      "        name  score  attempts qualify\n",
      "a  Anastasia   12.5         1     yes\n",
      "b       Dima    9.0         3      no\n",
      "c  Katherine   16.5         2     yes\n",
      "d      James   11.5         3      no\n",
      "e      Emily    9.0         2      no\n",
      "f    Michael   20.0         3     yes\n",
      "g    Matthew   14.5         1     yes\n",
      "h      Laura    NaN         1      no\n",
      "i      Kevin    8.0         2      no\n",
      "j      Jonas   19.0         1     yes\n"
     ]
    }
   ],
   "source": [
    "# Changing the row d score to 11.5\n",
    "df_dict.loc[['d'], ['score']] = 11.5\n",
    "df_dict.loc['d', 'score'] = 11.5\n",
    "print(df_dict)"
   ]
  },
  {
   "cell_type": "raw",
   "id": "fac2ecd8-4964-4aea-b750-bdb07d833901",
   "metadata": {},
   "source": [
    "15. Write a Python program to calculate the sum of the examination attempts by the students.\n",
    "exam_data = {\n",
    "    'name': ['Anastasia', 'Dima', 'Katherine', 'James', 'Emily', 'Michael', 'Matthew','Laura', 'Kevin', 'Jonas'],\n",
    "    'score': [12.5, 9, 16.5, np.nan, 9, 20, 14.5, np.nan, 8, 19],\n",
    "    'attempts': [1, 3, 2, 3, 2, 3, 1, 1, 2, 1],\n",
    "    'qualify': ['yes', 'no', 'yes', 'no', 'no', 'yes', 'yes', 'no', 'no', 'yes']\n",
    "}\n",
    "labels = ['a', 'b', 'c', 'd', 'e', 'f', 'g', 'h', 'i', 'j']"
   ]
  },
  {
   "cell_type": "code",
   "execution_count": 17,
   "id": "7d6732a3-d720-4f47-9416-97d4ba63e3fd",
   "metadata": {},
   "outputs": [
    {
     "data": {
      "text/plain": [
       "19"
      ]
     },
     "execution_count": 17,
     "metadata": {},
     "output_type": "execute_result"
    }
   ],
   "source": [
    "# Calculating the sum of the examination attempts by the students\n",
    "df_dict['attempts'].sum()"
   ]
  },
  {
   "cell_type": "raw",
   "id": "9c9f9464-857d-4143-abef-2357179bfaa3",
   "metadata": {},
   "source": [
    "16. Write a Python program to calculate the mean score for each different student in DataFrame.\n",
    "exam_data = {\n",
    "    'name': ['Anastasia', 'Dima', 'Katherine', 'James', 'Emily', 'Michael', 'Matthew','Laura', 'Kevin', 'Jonas'],\n",
    "    'score': [12.5, 9, 16.5, np.nan, 9, 20, 14.5, np.nan, 8, 19],\n",
    "    'attempts': [1, 3, 2, 3, 2, 3, 1, 1, 2, 1],\n",
    "    'qualify': ['yes', 'no', 'yes', 'no', 'no', 'yes', 'yes', 'no', 'no', 'yes']\n",
    "}\n",
    "labels = ['a', 'b', 'c', 'd', 'e', 'f', 'g', 'h', 'i', 'j']"
   ]
  },
  {
   "cell_type": "code",
   "execution_count": 18,
   "id": "fc4f7f7e-fbc3-4810-931c-910cc287bc03",
   "metadata": {},
   "outputs": [
    {
     "name": "stdout",
     "output_type": "stream",
     "text": [
      "name\n",
      "Anastasia    12.5\n",
      "Dima          9.0\n",
      "Emily         9.0\n",
      "James        11.5\n",
      "Jonas        19.0\n",
      "Katherine    16.5\n",
      "Kevin         8.0\n",
      "Laura         NaN\n",
      "Matthew      14.5\n",
      "Michael      20.0\n",
      "Name: score, dtype: float64\n",
      "Overall mean score: 12.0\n"
     ]
    }
   ],
   "source": [
    "# Calculate the mean score for each different student\n",
    "mean_scores = df_dict.groupby('name')['score'].mean()\n",
    "print(mean_scores)\n",
    "overall_mean_score =  df_dict['score'].fillna(0).mean()\n",
    "print(f'Overall mean score: {overall_mean_score}')"
   ]
  },
  {
   "cell_type": "raw",
   "id": "eb876a31-e010-449c-9875-2cdc74fc2385",
   "metadata": {},
   "source": [
    "17. Write a Python program to append a new row 'k' to data frame with given values for each column. Now delete the new row and return the original DataFrame.\n",
    "\n",
    "exam_data = {\n",
    "    'name': ['Anastasia', 'Dima', 'Katherine', 'James', 'Emily', 'Michael', 'Matthew', 'Laura', 'Kevin', 'Jonas'],\n",
    "    'score': [12.5, 9, 16.5, np.nan, 9, 20, 14.5, np.nan, 8, 19],\n",
    "    'attempts': [1, 3, 2, 3, 2, 3, 1, 1, 2, 1],\n",
    "    'qualify': ['yes', 'no', 'yes', 'no', 'no', 'yes', 'yes', 'no', 'no', 'yes']\n",
    "}\n",
    "labels = ['a', 'b', 'c', 'd', 'e', 'f', 'g', 'h', 'i', 'j']\n",
    "\n",
    "Values for each column will be:\n",
    "name : \"Suresh\", score: 15.5, attempts: 1, qualify: \"yes\", label: \"k\""
   ]
  },
  {
   "cell_type": "code",
   "execution_count": 19,
   "id": "a159f455-eb67-490c-8f7f-670964259746",
   "metadata": {},
   "outputs": [
    {
     "name": "stdout",
     "output_type": "stream",
     "text": [
      "Updated DataFrame:\n",
      "        name  score  attempts qualify\n",
      "a  Anastasia   12.5         1     yes\n",
      "b       Dima    9.0         3      no\n",
      "c  Katherine   16.5         2     yes\n",
      "d      James   11.5         3      no\n",
      "e      Emily    9.0         2      no\n",
      "f    Michael   20.0         3     yes\n",
      "g    Matthew   14.5         1     yes\n",
      "h      Laura    NaN         1      no\n",
      "i      Kevin    8.0         2      no\n",
      "j      Jonas   19.0         1     yes\n",
      "k     Suresh   15.5         1     yes\n",
      "\n",
      "Original DataFrame:\n",
      "        name  score  attempts qualify\n",
      "a  Anastasia   12.5         1     yes\n",
      "b       Dima    9.0         3      no\n",
      "c  Katherine   16.5         2     yes\n",
      "d      James   11.5         3      no\n",
      "e      Emily    9.0         2      no\n",
      "f    Michael   20.0         3     yes\n",
      "g    Matthew   14.5         1     yes\n",
      "h      Laura    NaN         1      no\n",
      "i      Kevin    8.0         2      no\n",
      "j      Jonas   19.0         1     yes\n"
     ]
    }
   ],
   "source": [
    "# Append a new row to the DataFrame\n",
    "new_row = {'name': 'Suresh', 'score': 15.5, 'attempts': 1, 'qualify': 'yes'}\n",
    "df_dict.loc['k'] = new_row\n",
    "\n",
    "print(\"Updated DataFrame:\")\n",
    "print(df_dict)\n",
    "\n",
    "df_dict = df_dict.drop('k') # df_dict.drop(df.index[-1])\n",
    "\n",
    "print(\"\\nOriginal DataFrame:\")\n",
    "print(df_dict)"
   ]
  },
  {
   "cell_type": "raw",
   "id": "a7d923e0-0037-4f15-96e2-e25de0909711",
   "metadata": {},
   "source": [
    "18. Write a Python program to sort the DataFrame first by 'name' in descending order, then by 'score' in ascending order.\n",
    "exam_data = {\n",
    "    'name': ['Anastasia', 'Dima', 'Katherine', 'James', 'Emily', 'Michael', 'Matthew','Laura', 'Kevin', 'Jonas'],\n",
    "    'score': [12.5, 9, 16.5, np.nan, 9, 20, 14.5, np.nan, 8, 19],\n",
    "    'attempts': [1, 3, 2, 3, 2, 3, 1, 1, 2, 1],\n",
    "    'qualify': ['yes', 'no', 'yes', 'no', 'no', 'yes', 'yes', 'no', 'no', 'yes']\n",
    "}\n",
    "labels = ['a', 'b', 'c', 'd', 'e', 'f', 'g', 'h', 'i', 'j']"
   ]
  },
  {
   "cell_type": "code",
   "execution_count": 20,
   "id": "439430da-d4be-4b41-91ac-6312145d321a",
   "metadata": {},
   "outputs": [
    {
     "name": "stdout",
     "output_type": "stream",
     "text": [
      "        name  score  attempts qualify\n",
      "f    Michael   20.0         3     yes\n",
      "g    Matthew   14.5         1     yes\n",
      "h      Laura    NaN         1      no\n",
      "i      Kevin    8.0         2      no\n",
      "c  Katherine   16.5         2     yes\n",
      "j      Jonas   19.0         1     yes\n",
      "d      James   11.5         3      no\n",
      "e      Emily    9.0         2      no\n",
      "b       Dima    9.0         3      no\n",
      "a  Anastasia   12.5         1     yes\n"
     ]
    }
   ],
   "source": [
    "new_df_dict = df_dict.sort_values(by=['name', 'score'], ascending=[False, True])\n",
    "print(new_df_dict)"
   ]
  },
  {
   "cell_type": "raw",
   "id": "a1a28ae1-ceb4-4bd0-9f19-b56d35f8d5bc",
   "metadata": {},
   "source": [
    "19. Write a Python program to replace the 'qualify' column contains the values 'yes' and 'no' with True and False.\n",
    "exam_data = {\n",
    "    'name': ['Anastasia', 'Dima', 'Katherine', 'James', 'Emily', 'Michael', 'Matthew', 'Laura', 'Kevin', 'Jonas'],\n",
    "    'score': [12.5, 9, 16.5, np.nan, 9, 20, 14.5, np.nan, 8, 19],\n",
    "    'attempts': [1, 3, 2, 3, 2, 3, 1, 1, 2, 1],\n",
    "    'qualify': ['yes', 'no', 'yes', 'no', 'no', 'yes', 'yes', 'no', 'no', 'yes']\n",
    "}\n",
    "labels = ['a', 'b', 'c', 'd', 'e', 'f', 'g', 'h', 'i', 'j']"
   ]
  },
  {
   "cell_type": "code",
   "execution_count": 21,
   "id": "fabc8a79-b639-4df3-8f56-10a93a140bff",
   "metadata": {},
   "outputs": [
    {
     "name": "stdout",
     "output_type": "stream",
     "text": [
      "        name  score  attempts  qualify\n",
      "a  Anastasia   12.5         1     True\n",
      "b       Dima    9.0         3    False\n",
      "c  Katherine   16.5         2     True\n",
      "d      James   11.5         3    False\n",
      "e      Emily    9.0         2    False\n",
      "f    Michael   20.0         3     True\n",
      "g    Matthew   14.5         1     True\n",
      "h      Laura    NaN         1    False\n",
      "i      Kevin    8.0         2    False\n",
      "j      Jonas   19.0         1     True\n"
     ]
    },
    {
     "name": "stderr",
     "output_type": "stream",
     "text": [
      "/tmp/ipykernel_152184/2196193920.py:2: FutureWarning: Downcasting behavior in `replace` is deprecated and will be removed in a future version. To retain the old behavior, explicitly call `result.infer_objects(copy=False)`. To opt-in to the future behavior, set `pd.set_option('future.no_silent_downcasting', True)`\n",
      "  new_df_dict['qualify'] = new_df_dict['qualify'].replace(['yes', 'no'], [True, False])\n"
     ]
    }
   ],
   "source": [
    "new_df_dict = df_dict.copy()\n",
    "new_df_dict['qualify'] = new_df_dict['qualify'].replace(['yes', 'no'], [True, False])\n",
    "print(new_df_dict)"
   ]
  },
  {
   "cell_type": "raw",
   "id": "4d070281-3c0c-401c-8b2e-0b9a38ec7336",
   "metadata": {},
   "source": [
    "20. Write a Python program to delete the 'attempts' column from the DataFrame.\n",
    "exam_data = {\n",
    "    'name': ['Anastasia', 'Dima', 'Katherine', 'James', 'Emily', 'Michael', 'Matthew','Laura', 'Kevin', 'Jonas'],\n",
    "    'score': [12.5, 9, 16.5, np.nan, 9, 20, 14.5, np.nan, 8, 19],\n",
    "    'attempts': [1, 3, 2, 3, 2, 3, 1, 1, 2, 1],\n",
    "    'qualify': ['yes', 'no', 'yes', 'no', 'no', 'yes', 'yes', 'no', 'no', 'yes']\n",
    "}\n",
    "labels = ['a', 'b', 'c', 'd', 'e', 'f', 'g', 'h', 'i', 'j']"
   ]
  },
  {
   "cell_type": "code",
   "execution_count": 22,
   "id": "4e5b8637-989f-40e8-9b42-c58e1af39014",
   "metadata": {},
   "outputs": [
    {
     "name": "stdout",
     "output_type": "stream",
     "text": [
      "        name  score qualify\n",
      "a  Anastasia   12.5     yes\n",
      "b       Dima    9.0      no\n",
      "c  Katherine   16.5     yes\n",
      "d      James   11.5      no\n",
      "e      Emily    9.0      no\n",
      "f    Michael   20.0     yes\n",
      "g    Matthew   14.5     yes\n",
      "h      Laura    NaN      no\n",
      "i      Kevin    8.0      no\n",
      "j      Jonas   19.0     yes\n"
     ]
    }
   ],
   "source": [
    "new_df_dict = df_dict.copy()\n",
    "new_df_dict.drop(columns='attempts', inplace=True)\n",
    "print(new_df_dict)"
   ]
  },
  {
   "cell_type": "raw",
   "id": "162f0fdb-6b19-40bc-8301-d889064ef608",
   "metadata": {},
   "source": [
    "21. Write a Python program to insert a new column in existing DataFrame.\n",
    "exam_data = {\n",
    "    'name': ['Anastasia', 'Dima', 'Katherine', 'James', 'Emily', 'Michael', 'Matthew','Laura', 'Kevin', 'Jonas'],\n",
    "    'score': [12.5, 9, 16.5, np.nan, 9, 20, 14.5, np.nan, 8, 19],\n",
    "    'attempts': [1, 3, 2, 3, 2, 3, 1, 1, 2, 1],\n",
    "    'qualify': ['yes', 'no', 'yes', 'no', 'no', 'yes', 'yes', 'no', 'no', 'yes']\n",
    "}\n",
    "labels = ['a', 'b', 'c', 'd', 'e', 'f', 'g', 'h', 'i', 'j']"
   ]
  },
  {
   "cell_type": "code",
   "execution_count": 23,
   "id": "793cdaca-2bc5-4209-8b01-c07a7350e491",
   "metadata": {},
   "outputs": [
    {
     "name": "stdout",
     "output_type": "stream",
     "text": [
      "        name  score  attempts qualify  passing_score\n",
      "a  Anastasia   12.5         1     yes             15\n",
      "b       Dima    9.0         3      no             15\n",
      "c  Katherine   16.5         2     yes             15\n",
      "d      James   11.5         3      no             15\n",
      "e      Emily    9.0         2      no             15\n",
      "f    Michael   20.0         3     yes             15\n",
      "g    Matthew   14.5         1     yes             15\n",
      "h      Laura    NaN         1      no             15\n",
      "i      Kevin    8.0         2      no             15\n",
      "j      Jonas   19.0         1     yes             15\n"
     ]
    }
   ],
   "source": [
    "new_df_dict = df_dict.copy()\n",
    "new_df_dict['passing_score'] = 15\n",
    "print(new_df_dict)"
   ]
  },
  {
   "cell_type": "markdown",
   "id": "a5e5b69e-4a3c-4295-8280-95acd0624ca6",
   "metadata": {},
   "source": [
    "22. Write a Python program to iterate over rows in a DataFrame."
   ]
  },
  {
   "cell_type": "code",
   "execution_count": 24,
   "id": "378694a8-cd99-4f6e-b97f-d5e2c2ebc0ae",
   "metadata": {},
   "outputs": [
    {
     "name": "stdout",
     "output_type": "stream",
     "text": [
      "a\n",
      "\t -> Anastasia\n",
      "\t -> 12.5\n",
      "\t -> 1\n",
      "\t -> yes\n",
      "b\n",
      "\t -> Dima\n",
      "\t -> 9.0\n",
      "\t -> 3\n",
      "\t -> no\n",
      "c\n",
      "\t -> Katherine\n",
      "\t -> 16.5\n",
      "\t -> 2\n",
      "\t -> yes\n",
      "d\n",
      "\t -> James\n",
      "\t -> 11.5\n",
      "\t -> 3\n",
      "\t -> no\n",
      "e\n",
      "\t -> Emily\n",
      "\t -> 9.0\n",
      "\t -> 2\n",
      "\t -> no\n",
      "f\n",
      "\t -> Michael\n",
      "\t -> 20.0\n",
      "\t -> 3\n",
      "\t -> yes\n",
      "g\n",
      "\t -> Matthew\n",
      "\t -> 14.5\n",
      "\t -> 1\n",
      "\t -> yes\n",
      "h\n",
      "\t -> Laura\n",
      "\t -> nan\n",
      "\t -> 1\n",
      "\t -> no\n",
      "i\n",
      "\t -> Kevin\n",
      "\t -> 8.0\n",
      "\t -> 2\n",
      "\t -> no\n",
      "j\n",
      "\t -> Jonas\n",
      "\t -> 19.0\n",
      "\t -> 1\n",
      "\t -> yes\n"
     ]
    }
   ],
   "source": [
    "new_df_dict = df_dict.copy()\n",
    "for index, row in new_df_dict.iterrows():\n",
    "    print(f'{index}')\n",
    "    for val in row:\n",
    "        print(f'\\t -> {val}', end=\"\\n\")"
   ]
  },
  {
   "cell_type": "raw",
   "id": "23220fae-e86b-42df-9857-21e5a1b0e907",
   "metadata": {},
   "source": [
    "23. Write a Python program to get list from DataFrame column headers.\n",
    "Sample data:\n",
    "exam_data = {\n",
    "    'name': ['Anastasia', 'Dima', 'Katherine', 'James', 'Emily', 'Michael', 'Matthew','Laura', 'Kevin', 'Jonas'],\n",
    "    'score': [12.5, 9, 16.5, np.nan, 9, 20, 14.5, np.nan, 8, 19],\n",
    "    'attempts': [1, 3, 2, 3, 2, 3, 1, 1, 2, 1],\n",
    "    'qualify': ['yes', 'no', 'yes', 'no', 'no', 'yes', 'yes', 'no', 'no', 'yes']\n",
    "}\n",
    "labels = ['a', 'b', 'c', 'd', 'e', 'f', 'g', 'h', 'i', 'j']"
   ]
  },
  {
   "cell_type": "code",
   "execution_count": 25,
   "id": "78159080-9230-4f2a-b3f9-ad06b58e4f39",
   "metadata": {},
   "outputs": [
    {
     "name": "stdout",
     "output_type": "stream",
     "text": [
      "['name', 'score', 'attempts', 'qualify']\n"
     ]
    }
   ],
   "source": [
    "new_df_dict = df_dict.copy()\n",
    "cols = new_df_dict.columns.tolist()\n",
    "print(cols)"
   ]
  }
 ],
 "metadata": {
  "kernelspec": {
   "display_name": "Python 3 (ipykernel)",
   "language": "python",
   "name": "python3"
  },
  "language_info": {
   "codemirror_mode": {
    "name": "ipython",
    "version": 3
   },
   "file_extension": ".py",
   "mimetype": "text/x-python",
   "name": "python",
   "nbconvert_exporter": "python",
   "pygments_lexer": "ipython3",
   "version": "3.10.12"
  }
 },
 "nbformat": 4,
 "nbformat_minor": 5
}
